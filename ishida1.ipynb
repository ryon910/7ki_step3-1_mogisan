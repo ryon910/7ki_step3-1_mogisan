{
 "cells": [
  {
   "cell_type": "code",
   "execution_count": 2,
   "metadata": {},
   "outputs": [],
   "source": [
    "import os\n",
    "import streamlit as st\n",
    "import pandas as pd\n",
    "import numpy as np\n",
    "import gspread\n",
    "from google.oauth2.service_account import Credentials\n",
    "from gspread_dataframe import set_with_dataframe\n",
    "from dotenv import load_dotenv\n",
    "from geopy.geocoders import Nominatim\n",
    "import folium\n",
    "from streamlit_folium import folium_static\n"
   ]
  },
  {
   "cell_type": "code",
   "execution_count": 3,
   "metadata": {},
   "outputs": [],
   "source": [
    "# 環境変数の読み込み\n",
    "load_dotenv()\n",
    "\n",
    "# 環境変数から認証情報を取得\n",
    "SPREADSHEET_ID = os.getenv(\"SPREADSHEET_ID\")\n",
    "PRIVATE_KEY_PATH = os.getenv(\"PRIVATE_KEY_PATH\")\n",
    "SP_SHEET     = 'tech0_01' # sheet名"
   ]
  },
  {
   "cell_type": "code",
   "execution_count": 7,
   "metadata": {},
   "outputs": [],
   "source": [
    "# セッション状態の初期化\n",
    "#現状は地図のみ（今後、ログイン、ユーザーネーム、お気に入り、検索履歴なども入れたい）\n",
    "if 'show_all' not in st.session_state:\n",
    "    st.session_state['show_all'] = False  # 初期状態は地図上の物件のみを表示"
   ]
  },
  {
   "cell_type": "code",
   "execution_count": 8,
   "metadata": {},
   "outputs": [],
   "source": [
    "# 地図上以外の物件も表示するボタンの状態を切り替える関数（byすずゆう）\n",
    "def toggle_show_all():\n",
    "    st.session_state['show_all'] = not st.session_state['show_all']"
   ]
  },
  {
   "cell_type": "code",
   "execution_count": 19,
   "metadata": {},
   "outputs": [],
   "source": [
    "# スプレッドシートからデータを読み込む関数　　　（SQLバージョンもやってみたい）\n",
    "def load_data_from_spreadsheet():\n",
    "    # googleスプレッドシートの認証 jsonファイル読み込み(key値はGCPから取得)\n",
    "    SP_CREDENTIAL_FILE = PRIVATE_KEY_PATH\n",
    "\n",
    "    scopes = [\n",
    "        'https://www.googleapis.com/auth/spreadsheets',\n",
    "        'https://www.googleapis.com/auth/drive'\n",
    "    ]\n",
    "\n",
    "    credentials = Credentials.from_service_account_file(\n",
    "        SP_CREDENTIAL_FILE,\n",
    "        scopes=scopes\n",
    "    )\n",
    "    gc = gspread.authorize(credentials)\n",
    "\n",
    "    SP_SHEET_KEY = SPREADSHEET_ID # d/〇〇/edit の〇〇部分\n",
    "    sh  = gc.open_by_key(SP_SHEET_KEY)\n",
    "\n",
    "    # 不動産データの取得\n",
    "    worksheet = sh.worksheet(SP_SHEET) # シートのデータ取得\n",
    "    pre_data  = worksheet.get_all_values()\n",
    "    col_name = pre_data[0][:]\n",
    "    df = pd.DataFrame(pre_data[1:], columns=col_name) # 一段目をカラム、以下データフレームで取得\n",
    "\n",
    "    return df"
   ]
  },
  {
   "cell_type": "code",
   "execution_count": 29,
   "metadata": {},
   "outputs": [],
   "source": [
    "    # googleスプレッドシートの認証 jsonファイル読み込み(key値はGCPから取得)\n",
    "    SP_CREDENTIAL_FILE = PRIVATE_KEY_PATH\n",
    "\n",
    "    scopes = [\n",
    "        'https://www.googleapis.com/auth/spreadsheets',\n",
    "        'https://www.googleapis.com/auth/drive'\n",
    "    ]\n",
    "\n",
    "    credentials = Credentials.from_service_account_file(\n",
    "        SP_CREDENTIAL_FILE,\n",
    "        scopes=scopes\n",
    "    )\n",
    "    gc = gspread.authorize(credentials)\n",
    "\n",
    "    SP_SHEET_KEY = SPREADSHEET_ID # d/〇〇/edit の〇〇部分\n",
    "    sh  = gc.open_by_key(SP_SHEET_KEY)\n",
    "\n",
    "    # 不動産データの取得\n",
    "    worksheet = sh.worksheet(SP_SHEET) # シートのデータ取得\n",
    "    pre_data  = worksheet.get_all_values()\n",
    "    col_name = pre_data[0][:]\n",
    "    df = pd.DataFrame(pre_data[1:], columns=col_name) # 一段目をカラム、以下データフレームで取得"
   ]
  },
  {
   "cell_type": "code",
   "execution_count": 30,
   "metadata": {},
   "outputs": [
    {
     "name": "stdout",
     "output_type": "stream",
     "text": [
      "Index(['名称', 'カテゴリ', 'アドレス', 'アクセス', '築年数', '構造', '階数', '家賃', '管理費', '敷金',\n",
      "       '礼金', '間取り', '面積', '物件画像URL', '間取画像URL', '物件詳細URL'],\n",
      "      dtype='object')\n"
     ]
    }
   ],
   "source": [
    "print(df.columns)\n"
   ]
  },
  {
   "cell_type": "code",
   "execution_count": 9,
   "metadata": {},
   "outputs": [],
   "source": [
    "# データフレームの前処理を行う関数\n",
    "def preprocess_dataframe(df):\n",
    "    # '家賃' 列を浮動小数点数に変換し、NaN値を取り除く\n",
    "    df['家賃'] = pd.to_numeric(df['家賃'], errors='coerce')\n",
    "    df = df.dropna(subset=['家賃'])\n",
    "    return df"
   ]
  },
  {
   "cell_type": "code",
   "execution_count": 10,
   "metadata": {},
   "outputs": [],
   "source": [
    "def make_clickable(url, name):\n",
    "    return f'<a target=\"_blank\" href=\"{url}\">{name}</a>'"
   ]
  },
  {
   "cell_type": "code",
   "execution_count": 14,
   "metadata": {},
   "outputs": [],
   "source": [
    "# 地図を作成し、マーカーを追加する関数\n",
    "def create_map(filtered_df):\n",
    "    # 地図の初期設定\n",
    "    map_center = [filtered_df['latitude'].mean(), filtered_df['longitude'].mean()]\n",
    "    m = folium.Map(location=map_center, zoom_start=12)\n",
    "\n",
    "    # マーカーを追加\n",
    "    for idx, row in filtered_df.iterrows():\n",
    "        if pd.notnull(row['latitude']) and pd.notnull(row['longitude']):\n",
    "            # ポップアップに表示するHTMLコンテンツを作成\n",
    "            popup_html = f\"\"\"\n",
    "            <b>名称:</b> {row['名称']}<br>\n",
    "            <b>アドレス:</b> {row['アドレス']}<br>\n",
    "            <b>家賃:</b> {row['家賃']}万円<br>\n",
    "            <b>間取り:</b> {row['間取り']}<br>\n",
    "            <a href=\"{row['物件詳細URL']}\" target=\"_blank\">物件詳細</a>\n",
    "            \"\"\"\n",
    "            # HTMLをポップアップに設定\n",
    "            popup = folium.Popup(popup_html, max_width=400)\n",
    "            folium.Marker(\n",
    "                [row['latitude'], row['longitude']],\n",
    "                popup=popup\n",
    "            ).add_to(m)\n",
    "    return m\n"
   ]
  },
  {
   "cell_type": "code",
   "execution_count": 15,
   "metadata": {},
   "outputs": [],
   "source": [
    "# 検索結果を表示する関数\n",
    "def display_search_results(filtered_df):\n",
    "    # 物件番号を含む新しい列を作成\n",
    "    filtered_df['物件番号'] = range(1, len(filtered_df) + 1)\n",
    "    filtered_df['物件詳細URL'] = filtered_df['物件詳細URL'].apply(lambda x: make_clickable(x, \"リンク\"))\n",
    "    display_columns = ['物件番号', '名称', 'アドレス', '階数', '家賃', '間取り', '物件詳細URL']\n",
    "    filtered_df_display = filtered_df[display_columns]\n",
    "    st.markdown(filtered_df_display.to_html(escape=False, index=False), unsafe_allow_html=True)\n"
   ]
  },
  {
   "cell_type": "code",
   "execution_count": 16,
   "metadata": {},
   "outputs": [],
   "source": [
    "# メインのアプリケーション\n",
    "def main():\n",
    "    df = load_data_from_spreadsheet()\n",
    "    df = preprocess_dataframe(df)\n",
    "\n",
    "    # StreamlitのUI要素（スライダー、ボタンなど）の各表示設定\n",
    "    st.title('賃貸物件情報の可視化')\n",
    "\n",
    "    # エリアと家賃フィルタバーを1:2の割合で分割\n",
    "    col1, col2 = st.columns([1, 2])\n",
    "\n",
    "    with col1:\n",
    "        # エリア選択\n",
    "        area = st.radio('■ エリア選択', df['区'].unique())\n",
    "\n",
    "\n",
    "    with col2:\n",
    "        # 家賃範囲選択のスライダーをfloat型で設定し、小数点第一位まで表示\n",
    "        price_min, price_max = st.slider(\n",
    "            '■ 家賃範囲 (万円)', \n",
    "            min_value=float(1), \n",
    "            max_value=float(df['家賃'].max()),\n",
    "            value=(float(df['家賃'].min()), float(df['家賃'].max())),\n",
    "            step=0.1,  # ステップサイズを0.1に設定\n",
    "            format='%.1f'\n",
    "        )\n",
    "\n",
    "    with col2:\n",
    "    # 間取り選択のデフォルト値をすべてに設定\n",
    "        type_options = st.multiselect('■ 間取り選択', df['間取り'].unique(), default=df['間取り'].unique())\n",
    "\n",
    "\n",
    "    # フィルタリング/ フィルタリングされたデータフレームの件数を取得\n",
    "    filtered_df = df[(df['区'].isin([area])) & (df['間取り'].isin(type_options))]\n",
    "    filtered_df = filtered_df[(filtered_df['家賃'] >= price_min) & (filtered_df['家賃'] <= price_max)]\n",
    "    filtered_count = len(filtered_df)\n",
    "\n",
    "    # 'latitude' と 'longitude' 列を数値型に変換し、NaN値を含む行を削除\n",
    "    filtered_df['latitude'] = pd.to_numeric(filtered_df['latitude'], errors='coerce')\n",
    "    filtered_df['longitude'] = pd.to_numeric(filtered_df['longitude'], errors='coerce')\n",
    "    filtered_df2 = filtered_df.dropna(subset=['latitude', 'longitude'])\n",
    "\n",
    "\n",
    "    # 検索ボタン / # フィルタリングされたデータフレームの件数を表示\n",
    "    col2_1, col2_2 = st.columns([1, 2])\n",
    "\n",
    "    with col2_2:\n",
    "        st.write(f\"物件検索数: {filtered_count}件 / 全{len(df)}件\")\n",
    "\n",
    "    # 検索ボタン\n",
    "    if col2_1.button('検索＆更新', key='search_button'):\n",
    "        # 検索ボタンが押された場合、セッションステートに結果を保存\n",
    "        st.session_state['filtered_df'] = filtered_df\n",
    "        st.session_state['filtered_df2'] = filtered_df2\n",
    "        st.session_state['search_clicked'] = True\n",
    "\n",
    "    # Streamlitに地図を表示\n",
    "    if st.session_state.get('search_clicked', False):\n",
    "        m = create_map(st.session_state.get('filtered_df2', filtered_df2))\n",
    "        folium_static(m)\n",
    "\n",
    "    # 地図の下にラジオボタンを配置し、選択したオプションに応じて表示を切り替える\n",
    "    show_all_option = st.radio(\n",
    "        \"表示オプションを選択してください:\",\n",
    "        ('地図上の検索物件のみ', 'すべての検索物件'),\n",
    "        index=0 if not st.session_state.get('show_all', False) else 1,\n",
    "        key='show_all_option'\n",
    "    )\n",
    "\n",
    "    # ラジオボタンの選択に応じてセッションステートを更新\n",
    "    st.session_state['show_all'] = (show_all_option == 'すべての検索物件')\n",
    "\n",
    "    # 検索結果の表示\n",
    "    if st.session_state.get('search_clicked', False):\n",
    "        if st.session_state['show_all']:\n",
    "            display_search_results(st.session_state.get('filtered_df', filtered_df))  # 全データ\n",
    "        else:\n",
    "            display_search_results(st.session_state.get('filtered_df2', filtered_df2))  # 地図上の物件のみ\n"
   ]
  },
  {
   "cell_type": "code",
   "execution_count": 31,
   "metadata": {},
   "outputs": [
    {
     "name": "stderr",
     "output_type": "stream",
     "text": [
      "2024-06-01 09:54:35.135 \n",
      "  \u001b[33m\u001b[1mWarning:\u001b[0m to view this Streamlit app on a browser, run it with the following\n",
      "  command:\n",
      "\n",
      "    streamlit run c:\\Users\\sator\\anaconda3\\Lib\\site-packages\\ipykernel_launcher.py [ARGUMENTS]\n"
     ]
    },
    {
     "ename": "KeyError",
     "evalue": "'区'",
     "output_type": "error",
     "traceback": [
      "\u001b[1;31m---------------------------------------------------------------------------\u001b[0m",
      "\u001b[1;31mKeyError\u001b[0m                                  Traceback (most recent call last)",
      "File \u001b[1;32mc:\\Users\\sator\\anaconda3\\Lib\\site-packages\\pandas\\core\\indexes\\base.py:3791\u001b[0m, in \u001b[0;36mIndex.get_loc\u001b[1;34m(self, key)\u001b[0m\n\u001b[0;32m   3790\u001b[0m \u001b[38;5;28;01mtry\u001b[39;00m:\n\u001b[1;32m-> 3791\u001b[0m     \u001b[38;5;28;01mreturn\u001b[39;00m \u001b[38;5;28mself\u001b[39m\u001b[38;5;241m.\u001b[39m_engine\u001b[38;5;241m.\u001b[39mget_loc(casted_key)\n\u001b[0;32m   3792\u001b[0m \u001b[38;5;28;01mexcept\u001b[39;00m \u001b[38;5;167;01mKeyError\u001b[39;00m \u001b[38;5;28;01mas\u001b[39;00m err:\n",
      "File \u001b[1;32mindex.pyx:152\u001b[0m, in \u001b[0;36mpandas._libs.index.IndexEngine.get_loc\u001b[1;34m()\u001b[0m\n",
      "File \u001b[1;32mindex.pyx:181\u001b[0m, in \u001b[0;36mpandas._libs.index.IndexEngine.get_loc\u001b[1;34m()\u001b[0m\n",
      "File \u001b[1;32mpandas\\_libs\\hashtable_class_helper.pxi:7080\u001b[0m, in \u001b[0;36mpandas._libs.hashtable.PyObjectHashTable.get_item\u001b[1;34m()\u001b[0m\n",
      "File \u001b[1;32mpandas\\_libs\\hashtable_class_helper.pxi:7088\u001b[0m, in \u001b[0;36mpandas._libs.hashtable.PyObjectHashTable.get_item\u001b[1;34m()\u001b[0m\n",
      "\u001b[1;31mKeyError\u001b[0m: '区'",
      "\nThe above exception was the direct cause of the following exception:\n",
      "\u001b[1;31mKeyError\u001b[0m                                  Traceback (most recent call last)",
      "Cell \u001b[1;32mIn[31], line 7\u001b[0m\n\u001b[0;32m      5\u001b[0m \u001b[38;5;28;01mif\u001b[39;00m \u001b[38;5;124m'\u001b[39m\u001b[38;5;124mshow_all\u001b[39m\u001b[38;5;124m'\u001b[39m \u001b[38;5;129;01mnot\u001b[39;00m \u001b[38;5;129;01min\u001b[39;00m st\u001b[38;5;241m.\u001b[39msession_state:\n\u001b[0;32m      6\u001b[0m     st\u001b[38;5;241m.\u001b[39msession_state[\u001b[38;5;124m'\u001b[39m\u001b[38;5;124mshow_all\u001b[39m\u001b[38;5;124m'\u001b[39m] \u001b[38;5;241m=\u001b[39m \u001b[38;5;28;01mFalse\u001b[39;00m\n\u001b[1;32m----> 7\u001b[0m main()\n",
      "Cell \u001b[1;32mIn[16], line 14\u001b[0m, in \u001b[0;36mmain\u001b[1;34m()\u001b[0m\n\u001b[0;32m     10\u001b[0m col1, col2 \u001b[38;5;241m=\u001b[39m st\u001b[38;5;241m.\u001b[39mcolumns([\u001b[38;5;241m1\u001b[39m, \u001b[38;5;241m2\u001b[39m])\n\u001b[0;32m     12\u001b[0m \u001b[38;5;28;01mwith\u001b[39;00m col1:\n\u001b[0;32m     13\u001b[0m     \u001b[38;5;66;03m# エリア選択\u001b[39;00m\n\u001b[1;32m---> 14\u001b[0m     area \u001b[38;5;241m=\u001b[39m st\u001b[38;5;241m.\u001b[39mradio(\u001b[38;5;124m'\u001b[39m\u001b[38;5;124m■ エリア選択\u001b[39m\u001b[38;5;124m'\u001b[39m, df[\u001b[38;5;124m'\u001b[39m\u001b[38;5;124m区\u001b[39m\u001b[38;5;124m'\u001b[39m]\u001b[38;5;241m.\u001b[39munique())\n\u001b[0;32m     17\u001b[0m \u001b[38;5;28;01mwith\u001b[39;00m col2:\n\u001b[0;32m     18\u001b[0m     \u001b[38;5;66;03m# 家賃範囲選択のスライダーをfloat型で設定し、小数点第一位まで表示\u001b[39;00m\n\u001b[0;32m     19\u001b[0m     price_min, price_max \u001b[38;5;241m=\u001b[39m st\u001b[38;5;241m.\u001b[39mslider(\n\u001b[0;32m     20\u001b[0m         \u001b[38;5;124m'\u001b[39m\u001b[38;5;124m■ 家賃範囲 (万円)\u001b[39m\u001b[38;5;124m'\u001b[39m, \n\u001b[0;32m     21\u001b[0m         min_value\u001b[38;5;241m=\u001b[39m\u001b[38;5;28mfloat\u001b[39m(\u001b[38;5;241m1\u001b[39m), \n\u001b[1;32m   (...)\u001b[0m\n\u001b[0;32m     25\u001b[0m         \u001b[38;5;28mformat\u001b[39m\u001b[38;5;241m=\u001b[39m\u001b[38;5;124m'\u001b[39m\u001b[38;5;132;01m%.1f\u001b[39;00m\u001b[38;5;124m'\u001b[39m\n\u001b[0;32m     26\u001b[0m     )\n",
      "File \u001b[1;32mc:\\Users\\sator\\anaconda3\\Lib\\site-packages\\pandas\\core\\frame.py:3893\u001b[0m, in \u001b[0;36mDataFrame.__getitem__\u001b[1;34m(self, key)\u001b[0m\n\u001b[0;32m   3891\u001b[0m \u001b[38;5;28;01mif\u001b[39;00m \u001b[38;5;28mself\u001b[39m\u001b[38;5;241m.\u001b[39mcolumns\u001b[38;5;241m.\u001b[39mnlevels \u001b[38;5;241m>\u001b[39m \u001b[38;5;241m1\u001b[39m:\n\u001b[0;32m   3892\u001b[0m     \u001b[38;5;28;01mreturn\u001b[39;00m \u001b[38;5;28mself\u001b[39m\u001b[38;5;241m.\u001b[39m_getitem_multilevel(key)\n\u001b[1;32m-> 3893\u001b[0m indexer \u001b[38;5;241m=\u001b[39m \u001b[38;5;28mself\u001b[39m\u001b[38;5;241m.\u001b[39mcolumns\u001b[38;5;241m.\u001b[39mget_loc(key)\n\u001b[0;32m   3894\u001b[0m \u001b[38;5;28;01mif\u001b[39;00m is_integer(indexer):\n\u001b[0;32m   3895\u001b[0m     indexer \u001b[38;5;241m=\u001b[39m [indexer]\n",
      "File \u001b[1;32mc:\\Users\\sator\\anaconda3\\Lib\\site-packages\\pandas\\core\\indexes\\base.py:3798\u001b[0m, in \u001b[0;36mIndex.get_loc\u001b[1;34m(self, key)\u001b[0m\n\u001b[0;32m   3793\u001b[0m     \u001b[38;5;28;01mif\u001b[39;00m \u001b[38;5;28misinstance\u001b[39m(casted_key, \u001b[38;5;28mslice\u001b[39m) \u001b[38;5;129;01mor\u001b[39;00m (\n\u001b[0;32m   3794\u001b[0m         \u001b[38;5;28misinstance\u001b[39m(casted_key, abc\u001b[38;5;241m.\u001b[39mIterable)\n\u001b[0;32m   3795\u001b[0m         \u001b[38;5;129;01mand\u001b[39;00m \u001b[38;5;28many\u001b[39m(\u001b[38;5;28misinstance\u001b[39m(x, \u001b[38;5;28mslice\u001b[39m) \u001b[38;5;28;01mfor\u001b[39;00m x \u001b[38;5;129;01min\u001b[39;00m casted_key)\n\u001b[0;32m   3796\u001b[0m     ):\n\u001b[0;32m   3797\u001b[0m         \u001b[38;5;28;01mraise\u001b[39;00m InvalidIndexError(key)\n\u001b[1;32m-> 3798\u001b[0m     \u001b[38;5;28;01mraise\u001b[39;00m \u001b[38;5;167;01mKeyError\u001b[39;00m(key) \u001b[38;5;28;01mfrom\u001b[39;00m \u001b[38;5;21;01merr\u001b[39;00m\n\u001b[0;32m   3799\u001b[0m \u001b[38;5;28;01mexcept\u001b[39;00m \u001b[38;5;167;01mTypeError\u001b[39;00m:\n\u001b[0;32m   3800\u001b[0m     \u001b[38;5;66;03m# If we have a listlike key, _check_indexing_error will raise\u001b[39;00m\n\u001b[0;32m   3801\u001b[0m     \u001b[38;5;66;03m#  InvalidIndexError. Otherwise we fall through and re-raise\u001b[39;00m\n\u001b[0;32m   3802\u001b[0m     \u001b[38;5;66;03m#  the TypeError.\u001b[39;00m\n\u001b[0;32m   3803\u001b[0m     \u001b[38;5;28mself\u001b[39m\u001b[38;5;241m.\u001b[39m_check_indexing_error(key)\n",
      "\u001b[1;31mKeyError\u001b[0m: '区'"
     ]
    }
   ],
   "source": [
    "# アプリケーションの実行\n",
    "if __name__ == \"__main__\":\n",
    "    if 'search_clicked' not in st.session_state:\n",
    "        st.session_state['search_clicked'] = False\n",
    "    if 'show_all' not in st.session_state:\n",
    "        st.session_state['show_all'] = False\n",
    "    main()"
   ]
  },
  {
   "cell_type": "code",
   "execution_count": 18,
   "metadata": {},
   "outputs": [
    {
     "ename": "NameError",
     "evalue": "name 'df' is not defined",
     "output_type": "error",
     "traceback": [
      "\u001b[1;31m---------------------------------------------------------------------------\u001b[0m",
      "\u001b[1;31mNameError\u001b[0m                                 Traceback (most recent call last)",
      "Cell \u001b[1;32mIn[18], line 1\u001b[0m\n\u001b[1;32m----> 1\u001b[0m \u001b[38;5;28mprint\u001b[39m(df\u001b[38;5;241m.\u001b[39mcolumns)\n",
      "\u001b[1;31mNameError\u001b[0m: name 'df' is not defined"
     ]
    }
   ],
   "source": [
    "print(df.columns)"
   ]
  }
 ],
 "metadata": {
  "kernelspec": {
   "display_name": "base",
   "language": "python",
   "name": "python3"
  },
  "language_info": {
   "codemirror_mode": {
    "name": "ipython",
    "version": 3
   },
   "file_extension": ".py",
   "mimetype": "text/x-python",
   "name": "python",
   "nbconvert_exporter": "python",
   "pygments_lexer": "ipython3",
   "version": "3.11.7"
  }
 },
 "nbformat": 4,
 "nbformat_minor": 2
}
